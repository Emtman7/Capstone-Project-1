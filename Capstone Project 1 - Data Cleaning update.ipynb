{
 "cells": [
  {
   "cell_type": "code",
   "execution_count": 1,
   "metadata": {},
   "outputs": [],
   "source": [
    "import numpy as np\n",
    "import pandas as pd\n",
    "import matplotlib.pyplot as plt\n",
    "%matplotlib inline\n",
    "from mpl_toolkits import basemap\n",
    "import scipy.stats\n",
    "\n",
    "# Display up to n columns of a dataframe, alternate: \"pd.set_option('display.max_columns', 150)\"\n",
    "pd.options.display.max_columns = 300"
   ]
  },
  {
   "cell_type": "code",
   "execution_count": 2,
   "metadata": {},
   "outputs": [
    {
     "data": {
      "text/plain": [
       "['Data']"
      ]
     },
     "execution_count": 2,
     "metadata": {},
     "output_type": "execute_result"
    }
   ],
   "source": [
    "# Import the excel file and call it xls_file\n",
    "xls_file = pd.ExcelFile('globalterrorismdb_0919dist.xlsx')\n",
    "# View the excel file's sheet names\n",
    "xls_file.sheet_names"
   ]
  },
  {
   "cell_type": "code",
   "execution_count": 3,
   "metadata": {},
   "outputs": [],
   "source": [
    "# Load the xls file's Sheet1 as a dataframe\n",
    "df = xls_file.parse('Data')"
   ]
  },
  {
   "cell_type": "code",
   "execution_count": 4,
   "metadata": {},
   "outputs": [
    {
     "data": {
      "text/plain": [
       "Index(['eventid', 'iyear', 'imonth', 'iday', 'approxdate', 'extended',\n",
       "       'resolution', 'country', 'country_txt', 'region',\n",
       "       ...\n",
       "       'addnotes', 'scite1', 'scite2', 'scite3', 'dbsource', 'INT_LOG',\n",
       "       'INT_IDEO', 'INT_MISC', 'INT_ANY', 'related'],\n",
       "      dtype='object', length=135)"
      ]
     },
     "execution_count": 4,
     "metadata": {},
     "output_type": "execute_result"
    }
   ],
   "source": [
    "df.columns"
   ]
  },
  {
   "cell_type": "code",
   "execution_count": 5,
   "metadata": {},
   "outputs": [
    {
     "name": "stdout",
     "output_type": "stream",
     "text": [
      "(191464, 135)\n"
     ]
    },
    {
     "data": {
      "text/html": [
       "<div>\n",
       "<style scoped>\n",
       "    .dataframe tbody tr th:only-of-type {\n",
       "        vertical-align: middle;\n",
       "    }\n",
       "\n",
       "    .dataframe tbody tr th {\n",
       "        vertical-align: top;\n",
       "    }\n",
       "\n",
       "    .dataframe thead th {\n",
       "        text-align: right;\n",
       "    }\n",
       "</style>\n",
       "<table border=\"1\" class=\"dataframe\">\n",
       "  <thead>\n",
       "    <tr style=\"text-align: right;\">\n",
       "      <th></th>\n",
       "      <th>eventid</th>\n",
       "      <th>iyear</th>\n",
       "      <th>imonth</th>\n",
       "      <th>iday</th>\n",
       "      <th>approxdate</th>\n",
       "      <th>extended</th>\n",
       "      <th>resolution</th>\n",
       "      <th>country</th>\n",
       "      <th>country_txt</th>\n",
       "      <th>region</th>\n",
       "      <th>region_txt</th>\n",
       "      <th>provstate</th>\n",
       "      <th>city</th>\n",
       "      <th>latitude</th>\n",
       "      <th>longitude</th>\n",
       "      <th>specificity</th>\n",
       "      <th>vicinity</th>\n",
       "      <th>location</th>\n",
       "      <th>summary</th>\n",
       "      <th>crit1</th>\n",
       "      <th>crit2</th>\n",
       "      <th>crit3</th>\n",
       "      <th>doubtterr</th>\n",
       "      <th>alternative</th>\n",
       "      <th>alternative_txt</th>\n",
       "      <th>multiple</th>\n",
       "      <th>success</th>\n",
       "      <th>suicide</th>\n",
       "      <th>attacktype1</th>\n",
       "      <th>attacktype1_txt</th>\n",
       "      <th>attacktype2</th>\n",
       "      <th>attacktype2_txt</th>\n",
       "      <th>attacktype3</th>\n",
       "      <th>attacktype3_txt</th>\n",
       "      <th>targtype1</th>\n",
       "      <th>targtype1_txt</th>\n",
       "      <th>targsubtype1</th>\n",
       "      <th>targsubtype1_txt</th>\n",
       "      <th>corp1</th>\n",
       "      <th>target1</th>\n",
       "      <th>natlty1</th>\n",
       "      <th>natlty1_txt</th>\n",
       "      <th>targtype2</th>\n",
       "      <th>targtype2_txt</th>\n",
       "      <th>targsubtype2</th>\n",
       "      <th>targsubtype2_txt</th>\n",
       "      <th>corp2</th>\n",
       "      <th>target2</th>\n",
       "      <th>natlty2</th>\n",
       "      <th>natlty2_txt</th>\n",
       "      <th>targtype3</th>\n",
       "      <th>targtype3_txt</th>\n",
       "      <th>targsubtype3</th>\n",
       "      <th>targsubtype3_txt</th>\n",
       "      <th>corp3</th>\n",
       "      <th>target3</th>\n",
       "      <th>natlty3</th>\n",
       "      <th>natlty3_txt</th>\n",
       "      <th>gname</th>\n",
       "      <th>gsubname</th>\n",
       "      <th>gname2</th>\n",
       "      <th>gsubname2</th>\n",
       "      <th>gname3</th>\n",
       "      <th>gsubname3</th>\n",
       "      <th>motive</th>\n",
       "      <th>guncertain1</th>\n",
       "      <th>guncertain2</th>\n",
       "      <th>guncertain3</th>\n",
       "      <th>individual</th>\n",
       "      <th>nperps</th>\n",
       "      <th>nperpcap</th>\n",
       "      <th>claimed</th>\n",
       "      <th>claimmode</th>\n",
       "      <th>claimmode_txt</th>\n",
       "      <th>claim2</th>\n",
       "      <th>claimmode2</th>\n",
       "      <th>claimmode2_txt</th>\n",
       "      <th>claim3</th>\n",
       "      <th>claimmode3</th>\n",
       "      <th>claimmode3_txt</th>\n",
       "      <th>compclaim</th>\n",
       "      <th>weaptype1</th>\n",
       "      <th>weaptype1_txt</th>\n",
       "      <th>weapsubtype1</th>\n",
       "      <th>weapsubtype1_txt</th>\n",
       "      <th>weaptype2</th>\n",
       "      <th>weaptype2_txt</th>\n",
       "      <th>weapsubtype2</th>\n",
       "      <th>weapsubtype2_txt</th>\n",
       "      <th>weaptype3</th>\n",
       "      <th>weaptype3_txt</th>\n",
       "      <th>weapsubtype3</th>\n",
       "      <th>weapsubtype3_txt</th>\n",
       "      <th>weaptype4</th>\n",
       "      <th>weaptype4_txt</th>\n",
       "      <th>weapsubtype4</th>\n",
       "      <th>weapsubtype4_txt</th>\n",
       "      <th>weapdetail</th>\n",
       "      <th>nkill</th>\n",
       "      <th>nkillus</th>\n",
       "      <th>nkillter</th>\n",
       "      <th>nwound</th>\n",
       "      <th>nwoundus</th>\n",
       "      <th>nwoundte</th>\n",
       "      <th>property</th>\n",
       "      <th>propextent</th>\n",
       "      <th>propextent_txt</th>\n",
       "      <th>propvalue</th>\n",
       "      <th>propcomment</th>\n",
       "      <th>ishostkid</th>\n",
       "      <th>nhostkid</th>\n",
       "      <th>nhostkidus</th>\n",
       "      <th>nhours</th>\n",
       "      <th>ndays</th>\n",
       "      <th>divert</th>\n",
       "      <th>kidhijcountry</th>\n",
       "      <th>ransom</th>\n",
       "      <th>ransomamt</th>\n",
       "      <th>ransomamtus</th>\n",
       "      <th>ransompaid</th>\n",
       "      <th>ransompaidus</th>\n",
       "      <th>ransomnote</th>\n",
       "      <th>hostkidoutcome</th>\n",
       "      <th>hostkidoutcome_txt</th>\n",
       "      <th>nreleased</th>\n",
       "      <th>addnotes</th>\n",
       "      <th>scite1</th>\n",
       "      <th>scite2</th>\n",
       "      <th>scite3</th>\n",
       "      <th>dbsource</th>\n",
       "      <th>INT_LOG</th>\n",
       "      <th>INT_IDEO</th>\n",
       "      <th>INT_MISC</th>\n",
       "      <th>INT_ANY</th>\n",
       "      <th>related</th>\n",
       "    </tr>\n",
       "  </thead>\n",
       "  <tbody>\n",
       "    <tr>\n",
       "      <th>0</th>\n",
       "      <td>197000000001</td>\n",
       "      <td>1970</td>\n",
       "      <td>7</td>\n",
       "      <td>2</td>\n",
       "      <td>NaN</td>\n",
       "      <td>0</td>\n",
       "      <td>NaT</td>\n",
       "      <td>58</td>\n",
       "      <td>Dominican Republic</td>\n",
       "      <td>2</td>\n",
       "      <td>Central America &amp; Caribbean</td>\n",
       "      <td>National</td>\n",
       "      <td>Santo Domingo</td>\n",
       "      <td>18.456792</td>\n",
       "      <td>-69.951164</td>\n",
       "      <td>1.0</td>\n",
       "      <td>0</td>\n",
       "      <td>NaN</td>\n",
       "      <td>NaN</td>\n",
       "      <td>1</td>\n",
       "      <td>1</td>\n",
       "      <td>1</td>\n",
       "      <td>0</td>\n",
       "      <td>NaN</td>\n",
       "      <td>NaN</td>\n",
       "      <td>0</td>\n",
       "      <td>1</td>\n",
       "      <td>0</td>\n",
       "      <td>1</td>\n",
       "      <td>Assassination</td>\n",
       "      <td>NaN</td>\n",
       "      <td>NaN</td>\n",
       "      <td>NaN</td>\n",
       "      <td>NaN</td>\n",
       "      <td>14</td>\n",
       "      <td>Private Citizens &amp; Property</td>\n",
       "      <td>68.0</td>\n",
       "      <td>Named Civilian</td>\n",
       "      <td>NaN</td>\n",
       "      <td>Julio Guzman</td>\n",
       "      <td>58.0</td>\n",
       "      <td>Dominican Republic</td>\n",
       "      <td>NaN</td>\n",
       "      <td>NaN</td>\n",
       "      <td>NaN</td>\n",
       "      <td>NaN</td>\n",
       "      <td>NaN</td>\n",
       "      <td>NaN</td>\n",
       "      <td>NaN</td>\n",
       "      <td>NaN</td>\n",
       "      <td>NaN</td>\n",
       "      <td>NaN</td>\n",
       "      <td>NaN</td>\n",
       "      <td>NaN</td>\n",
       "      <td>NaN</td>\n",
       "      <td>NaN</td>\n",
       "      <td>NaN</td>\n",
       "      <td>NaN</td>\n",
       "      <td>MANO-D</td>\n",
       "      <td>NaN</td>\n",
       "      <td>NaN</td>\n",
       "      <td>NaN</td>\n",
       "      <td>NaN</td>\n",
       "      <td>NaN</td>\n",
       "      <td>NaN</td>\n",
       "      <td>0.0</td>\n",
       "      <td>NaN</td>\n",
       "      <td>NaN</td>\n",
       "      <td>0</td>\n",
       "      <td>NaN</td>\n",
       "      <td>NaN</td>\n",
       "      <td>NaN</td>\n",
       "      <td>NaN</td>\n",
       "      <td>NaN</td>\n",
       "      <td>NaN</td>\n",
       "      <td>NaN</td>\n",
       "      <td>NaN</td>\n",
       "      <td>NaN</td>\n",
       "      <td>NaN</td>\n",
       "      <td>NaN</td>\n",
       "      <td>NaN</td>\n",
       "      <td>13</td>\n",
       "      <td>Unknown</td>\n",
       "      <td>NaN</td>\n",
       "      <td>NaN</td>\n",
       "      <td>NaN</td>\n",
       "      <td>NaN</td>\n",
       "      <td>NaN</td>\n",
       "      <td>NaN</td>\n",
       "      <td>NaN</td>\n",
       "      <td>NaN</td>\n",
       "      <td>NaN</td>\n",
       "      <td>NaN</td>\n",
       "      <td>NaN</td>\n",
       "      <td>NaN</td>\n",
       "      <td>NaN</td>\n",
       "      <td>NaN</td>\n",
       "      <td>NaN</td>\n",
       "      <td>1.0</td>\n",
       "      <td>NaN</td>\n",
       "      <td>NaN</td>\n",
       "      <td>0.0</td>\n",
       "      <td>NaN</td>\n",
       "      <td>NaN</td>\n",
       "      <td>0</td>\n",
       "      <td>NaN</td>\n",
       "      <td>NaN</td>\n",
       "      <td>NaN</td>\n",
       "      <td>NaN</td>\n",
       "      <td>0.0</td>\n",
       "      <td>NaN</td>\n",
       "      <td>NaN</td>\n",
       "      <td>NaN</td>\n",
       "      <td>NaN</td>\n",
       "      <td>NaN</td>\n",
       "      <td>NaN</td>\n",
       "      <td>0.0</td>\n",
       "      <td>NaN</td>\n",
       "      <td>NaN</td>\n",
       "      <td>NaN</td>\n",
       "      <td>NaN</td>\n",
       "      <td>NaN</td>\n",
       "      <td>NaN</td>\n",
       "      <td>NaN</td>\n",
       "      <td>NaN</td>\n",
       "      <td>NaN</td>\n",
       "      <td>NaN</td>\n",
       "      <td>NaN</td>\n",
       "      <td>NaN</td>\n",
       "      <td>PGIS</td>\n",
       "      <td>0</td>\n",
       "      <td>0</td>\n",
       "      <td>0</td>\n",
       "      <td>0</td>\n",
       "      <td>NaN</td>\n",
       "    </tr>\n",
       "    <tr>\n",
       "      <th>1</th>\n",
       "      <td>197000000002</td>\n",
       "      <td>1970</td>\n",
       "      <td>0</td>\n",
       "      <td>0</td>\n",
       "      <td>NaN</td>\n",
       "      <td>0</td>\n",
       "      <td>NaT</td>\n",
       "      <td>130</td>\n",
       "      <td>Mexico</td>\n",
       "      <td>1</td>\n",
       "      <td>North America</td>\n",
       "      <td>Federal</td>\n",
       "      <td>Mexico city</td>\n",
       "      <td>19.371887</td>\n",
       "      <td>-99.086624</td>\n",
       "      <td>1.0</td>\n",
       "      <td>0</td>\n",
       "      <td>NaN</td>\n",
       "      <td>NaN</td>\n",
       "      <td>1</td>\n",
       "      <td>1</td>\n",
       "      <td>1</td>\n",
       "      <td>0</td>\n",
       "      <td>NaN</td>\n",
       "      <td>NaN</td>\n",
       "      <td>0</td>\n",
       "      <td>1</td>\n",
       "      <td>0</td>\n",
       "      <td>6</td>\n",
       "      <td>Hostage Taking (Kidnapping)</td>\n",
       "      <td>NaN</td>\n",
       "      <td>NaN</td>\n",
       "      <td>NaN</td>\n",
       "      <td>NaN</td>\n",
       "      <td>7</td>\n",
       "      <td>Government (Diplomatic)</td>\n",
       "      <td>45.0</td>\n",
       "      <td>Diplomatic Personnel (outside of embassy, cons...</td>\n",
       "      <td>Belgian Ambassador Daughter</td>\n",
       "      <td>Nadine Chaval, daughter</td>\n",
       "      <td>21.0</td>\n",
       "      <td>Belgium</td>\n",
       "      <td>NaN</td>\n",
       "      <td>NaN</td>\n",
       "      <td>NaN</td>\n",
       "      <td>NaN</td>\n",
       "      <td>NaN</td>\n",
       "      <td>NaN</td>\n",
       "      <td>NaN</td>\n",
       "      <td>NaN</td>\n",
       "      <td>NaN</td>\n",
       "      <td>NaN</td>\n",
       "      <td>NaN</td>\n",
       "      <td>NaN</td>\n",
       "      <td>NaN</td>\n",
       "      <td>NaN</td>\n",
       "      <td>NaN</td>\n",
       "      <td>NaN</td>\n",
       "      <td>23rd of September Communist League</td>\n",
       "      <td>NaN</td>\n",
       "      <td>NaN</td>\n",
       "      <td>NaN</td>\n",
       "      <td>NaN</td>\n",
       "      <td>NaN</td>\n",
       "      <td>NaN</td>\n",
       "      <td>0.0</td>\n",
       "      <td>NaN</td>\n",
       "      <td>NaN</td>\n",
       "      <td>0</td>\n",
       "      <td>7.0</td>\n",
       "      <td>NaN</td>\n",
       "      <td>NaN</td>\n",
       "      <td>NaN</td>\n",
       "      <td>NaN</td>\n",
       "      <td>NaN</td>\n",
       "      <td>NaN</td>\n",
       "      <td>NaN</td>\n",
       "      <td>NaN</td>\n",
       "      <td>NaN</td>\n",
       "      <td>NaN</td>\n",
       "      <td>NaN</td>\n",
       "      <td>13</td>\n",
       "      <td>Unknown</td>\n",
       "      <td>NaN</td>\n",
       "      <td>NaN</td>\n",
       "      <td>NaN</td>\n",
       "      <td>NaN</td>\n",
       "      <td>NaN</td>\n",
       "      <td>NaN</td>\n",
       "      <td>NaN</td>\n",
       "      <td>NaN</td>\n",
       "      <td>NaN</td>\n",
       "      <td>NaN</td>\n",
       "      <td>NaN</td>\n",
       "      <td>NaN</td>\n",
       "      <td>NaN</td>\n",
       "      <td>NaN</td>\n",
       "      <td>NaN</td>\n",
       "      <td>0.0</td>\n",
       "      <td>NaN</td>\n",
       "      <td>NaN</td>\n",
       "      <td>0.0</td>\n",
       "      <td>NaN</td>\n",
       "      <td>NaN</td>\n",
       "      <td>0</td>\n",
       "      <td>NaN</td>\n",
       "      <td>NaN</td>\n",
       "      <td>NaN</td>\n",
       "      <td>NaN</td>\n",
       "      <td>1.0</td>\n",
       "      <td>1.0</td>\n",
       "      <td>0.0</td>\n",
       "      <td>NaN</td>\n",
       "      <td>NaN</td>\n",
       "      <td>NaN</td>\n",
       "      <td>Mexico</td>\n",
       "      <td>1.0</td>\n",
       "      <td>800000.0</td>\n",
       "      <td>NaN</td>\n",
       "      <td>NaN</td>\n",
       "      <td>NaN</td>\n",
       "      <td>NaN</td>\n",
       "      <td>NaN</td>\n",
       "      <td>NaN</td>\n",
       "      <td>NaN</td>\n",
       "      <td>NaN</td>\n",
       "      <td>NaN</td>\n",
       "      <td>NaN</td>\n",
       "      <td>NaN</td>\n",
       "      <td>PGIS</td>\n",
       "      <td>0</td>\n",
       "      <td>1</td>\n",
       "      <td>1</td>\n",
       "      <td>1</td>\n",
       "      <td>NaN</td>\n",
       "    </tr>\n",
       "    <tr>\n",
       "      <th>2</th>\n",
       "      <td>197001000001</td>\n",
       "      <td>1970</td>\n",
       "      <td>1</td>\n",
       "      <td>0</td>\n",
       "      <td>NaN</td>\n",
       "      <td>0</td>\n",
       "      <td>NaT</td>\n",
       "      <td>160</td>\n",
       "      <td>Philippines</td>\n",
       "      <td>5</td>\n",
       "      <td>Southeast Asia</td>\n",
       "      <td>Tarlac</td>\n",
       "      <td>Unknown</td>\n",
       "      <td>15.478598</td>\n",
       "      <td>120.599741</td>\n",
       "      <td>4.0</td>\n",
       "      <td>0</td>\n",
       "      <td>NaN</td>\n",
       "      <td>NaN</td>\n",
       "      <td>1</td>\n",
       "      <td>1</td>\n",
       "      <td>1</td>\n",
       "      <td>0</td>\n",
       "      <td>NaN</td>\n",
       "      <td>NaN</td>\n",
       "      <td>0</td>\n",
       "      <td>1</td>\n",
       "      <td>0</td>\n",
       "      <td>1</td>\n",
       "      <td>Assassination</td>\n",
       "      <td>NaN</td>\n",
       "      <td>NaN</td>\n",
       "      <td>NaN</td>\n",
       "      <td>NaN</td>\n",
       "      <td>10</td>\n",
       "      <td>Journalists &amp; Media</td>\n",
       "      <td>54.0</td>\n",
       "      <td>Radio Journalist/Staff/Facility</td>\n",
       "      <td>Voice of America</td>\n",
       "      <td>Employee</td>\n",
       "      <td>217.0</td>\n",
       "      <td>United States</td>\n",
       "      <td>NaN</td>\n",
       "      <td>NaN</td>\n",
       "      <td>NaN</td>\n",
       "      <td>NaN</td>\n",
       "      <td>NaN</td>\n",
       "      <td>NaN</td>\n",
       "      <td>NaN</td>\n",
       "      <td>NaN</td>\n",
       "      <td>NaN</td>\n",
       "      <td>NaN</td>\n",
       "      <td>NaN</td>\n",
       "      <td>NaN</td>\n",
       "      <td>NaN</td>\n",
       "      <td>NaN</td>\n",
       "      <td>NaN</td>\n",
       "      <td>NaN</td>\n",
       "      <td>Unknown</td>\n",
       "      <td>NaN</td>\n",
       "      <td>NaN</td>\n",
       "      <td>NaN</td>\n",
       "      <td>NaN</td>\n",
       "      <td>NaN</td>\n",
       "      <td>NaN</td>\n",
       "      <td>0.0</td>\n",
       "      <td>NaN</td>\n",
       "      <td>NaN</td>\n",
       "      <td>0</td>\n",
       "      <td>NaN</td>\n",
       "      <td>NaN</td>\n",
       "      <td>NaN</td>\n",
       "      <td>NaN</td>\n",
       "      <td>NaN</td>\n",
       "      <td>NaN</td>\n",
       "      <td>NaN</td>\n",
       "      <td>NaN</td>\n",
       "      <td>NaN</td>\n",
       "      <td>NaN</td>\n",
       "      <td>NaN</td>\n",
       "      <td>NaN</td>\n",
       "      <td>13</td>\n",
       "      <td>Unknown</td>\n",
       "      <td>NaN</td>\n",
       "      <td>NaN</td>\n",
       "      <td>NaN</td>\n",
       "      <td>NaN</td>\n",
       "      <td>NaN</td>\n",
       "      <td>NaN</td>\n",
       "      <td>NaN</td>\n",
       "      <td>NaN</td>\n",
       "      <td>NaN</td>\n",
       "      <td>NaN</td>\n",
       "      <td>NaN</td>\n",
       "      <td>NaN</td>\n",
       "      <td>NaN</td>\n",
       "      <td>NaN</td>\n",
       "      <td>NaN</td>\n",
       "      <td>1.0</td>\n",
       "      <td>NaN</td>\n",
       "      <td>NaN</td>\n",
       "      <td>0.0</td>\n",
       "      <td>NaN</td>\n",
       "      <td>NaN</td>\n",
       "      <td>0</td>\n",
       "      <td>NaN</td>\n",
       "      <td>NaN</td>\n",
       "      <td>NaN</td>\n",
       "      <td>NaN</td>\n",
       "      <td>0.0</td>\n",
       "      <td>NaN</td>\n",
       "      <td>NaN</td>\n",
       "      <td>NaN</td>\n",
       "      <td>NaN</td>\n",
       "      <td>NaN</td>\n",
       "      <td>NaN</td>\n",
       "      <td>0.0</td>\n",
       "      <td>NaN</td>\n",
       "      <td>NaN</td>\n",
       "      <td>NaN</td>\n",
       "      <td>NaN</td>\n",
       "      <td>NaN</td>\n",
       "      <td>NaN</td>\n",
       "      <td>NaN</td>\n",
       "      <td>NaN</td>\n",
       "      <td>NaN</td>\n",
       "      <td>NaN</td>\n",
       "      <td>NaN</td>\n",
       "      <td>NaN</td>\n",
       "      <td>PGIS</td>\n",
       "      <td>-9</td>\n",
       "      <td>-9</td>\n",
       "      <td>1</td>\n",
       "      <td>1</td>\n",
       "      <td>NaN</td>\n",
       "    </tr>\n",
       "  </tbody>\n",
       "</table>\n",
       "</div>"
      ],
      "text/plain": [
       "        eventid  iyear  imonth  iday approxdate  extended resolution  country  \\\n",
       "0  197000000001   1970       7     2        NaN         0        NaT       58   \n",
       "1  197000000002   1970       0     0        NaN         0        NaT      130   \n",
       "2  197001000001   1970       1     0        NaN         0        NaT      160   \n",
       "\n",
       "          country_txt  region                   region_txt provstate  \\\n",
       "0  Dominican Republic       2  Central America & Caribbean  National   \n",
       "1              Mexico       1                North America   Federal   \n",
       "2         Philippines       5               Southeast Asia    Tarlac   \n",
       "\n",
       "            city   latitude   longitude  specificity  vicinity location  \\\n",
       "0  Santo Domingo  18.456792  -69.951164          1.0         0      NaN   \n",
       "1    Mexico city  19.371887  -99.086624          1.0         0      NaN   \n",
       "2        Unknown  15.478598  120.599741          4.0         0      NaN   \n",
       "\n",
       "  summary  crit1  crit2  crit3  doubtterr  alternative alternative_txt  \\\n",
       "0     NaN      1      1      1          0          NaN             NaN   \n",
       "1     NaN      1      1      1          0          NaN             NaN   \n",
       "2     NaN      1      1      1          0          NaN             NaN   \n",
       "\n",
       "   multiple  success  suicide  attacktype1              attacktype1_txt  \\\n",
       "0         0        1        0            1                Assassination   \n",
       "1         0        1        0            6  Hostage Taking (Kidnapping)   \n",
       "2         0        1        0            1                Assassination   \n",
       "\n",
       "   attacktype2 attacktype2_txt  attacktype3 attacktype3_txt  targtype1  \\\n",
       "0          NaN             NaN          NaN             NaN         14   \n",
       "1          NaN             NaN          NaN             NaN          7   \n",
       "2          NaN             NaN          NaN             NaN         10   \n",
       "\n",
       "                 targtype1_txt  targsubtype1  \\\n",
       "0  Private Citizens & Property          68.0   \n",
       "1      Government (Diplomatic)          45.0   \n",
       "2          Journalists & Media          54.0   \n",
       "\n",
       "                                    targsubtype1_txt  \\\n",
       "0                                     Named Civilian   \n",
       "1  Diplomatic Personnel (outside of embassy, cons...   \n",
       "2                    Radio Journalist/Staff/Facility   \n",
       "\n",
       "                         corp1                  target1  natlty1  \\\n",
       "0                          NaN             Julio Guzman     58.0   \n",
       "1  Belgian Ambassador Daughter  Nadine Chaval, daughter     21.0   \n",
       "2             Voice of America                 Employee    217.0   \n",
       "\n",
       "          natlty1_txt  targtype2 targtype2_txt  targsubtype2 targsubtype2_txt  \\\n",
       "0  Dominican Republic        NaN           NaN           NaN              NaN   \n",
       "1             Belgium        NaN           NaN           NaN              NaN   \n",
       "2       United States        NaN           NaN           NaN              NaN   \n",
       "\n",
       "  corp2 target2  natlty2 natlty2_txt  targtype3 targtype3_txt  targsubtype3  \\\n",
       "0   NaN     NaN      NaN         NaN        NaN           NaN           NaN   \n",
       "1   NaN     NaN      NaN         NaN        NaN           NaN           NaN   \n",
       "2   NaN     NaN      NaN         NaN        NaN           NaN           NaN   \n",
       "\n",
       "  targsubtype3_txt corp3 target3  natlty3 natlty3_txt  \\\n",
       "0              NaN   NaN     NaN      NaN         NaN   \n",
       "1              NaN   NaN     NaN      NaN         NaN   \n",
       "2              NaN   NaN     NaN      NaN         NaN   \n",
       "\n",
       "                                gname gsubname gname2 gsubname2 gname3  \\\n",
       "0                              MANO-D      NaN    NaN       NaN    NaN   \n",
       "1  23rd of September Communist League      NaN    NaN       NaN    NaN   \n",
       "2                             Unknown      NaN    NaN       NaN    NaN   \n",
       "\n",
       "  gsubname3 motive  guncertain1  guncertain2  guncertain3  individual  nperps  \\\n",
       "0       NaN    NaN          0.0          NaN          NaN           0     NaN   \n",
       "1       NaN    NaN          0.0          NaN          NaN           0     7.0   \n",
       "2       NaN    NaN          0.0          NaN          NaN           0     NaN   \n",
       "\n",
       "   nperpcap  claimed  claimmode claimmode_txt  claim2  claimmode2  \\\n",
       "0       NaN      NaN        NaN           NaN     NaN         NaN   \n",
       "1       NaN      NaN        NaN           NaN     NaN         NaN   \n",
       "2       NaN      NaN        NaN           NaN     NaN         NaN   \n",
       "\n",
       "  claimmode2_txt  claim3  claimmode3 claimmode3_txt  compclaim  weaptype1  \\\n",
       "0            NaN     NaN         NaN            NaN        NaN         13   \n",
       "1            NaN     NaN         NaN            NaN        NaN         13   \n",
       "2            NaN     NaN         NaN            NaN        NaN         13   \n",
       "\n",
       "  weaptype1_txt  weapsubtype1 weapsubtype1_txt  weaptype2 weaptype2_txt  \\\n",
       "0       Unknown           NaN              NaN        NaN           NaN   \n",
       "1       Unknown           NaN              NaN        NaN           NaN   \n",
       "2       Unknown           NaN              NaN        NaN           NaN   \n",
       "\n",
       "   weapsubtype2 weapsubtype2_txt  weaptype3 weaptype3_txt  weapsubtype3  \\\n",
       "0           NaN              NaN        NaN           NaN           NaN   \n",
       "1           NaN              NaN        NaN           NaN           NaN   \n",
       "2           NaN              NaN        NaN           NaN           NaN   \n",
       "\n",
       "  weapsubtype3_txt  weaptype4 weaptype4_txt  weapsubtype4 weapsubtype4_txt  \\\n",
       "0              NaN        NaN           NaN           NaN              NaN   \n",
       "1              NaN        NaN           NaN           NaN              NaN   \n",
       "2              NaN        NaN           NaN           NaN              NaN   \n",
       "\n",
       "  weapdetail  nkill  nkillus  nkillter  nwound  nwoundus  nwoundte  property  \\\n",
       "0        NaN    1.0      NaN       NaN     0.0       NaN       NaN         0   \n",
       "1        NaN    0.0      NaN       NaN     0.0       NaN       NaN         0   \n",
       "2        NaN    1.0      NaN       NaN     0.0       NaN       NaN         0   \n",
       "\n",
       "   propextent propextent_txt  propvalue propcomment  ishostkid  nhostkid  \\\n",
       "0         NaN            NaN        NaN         NaN        0.0       NaN   \n",
       "1         NaN            NaN        NaN         NaN        1.0       1.0   \n",
       "2         NaN            NaN        NaN         NaN        0.0       NaN   \n",
       "\n",
       "   nhostkidus  nhours  ndays divert kidhijcountry  ransom  ransomamt  \\\n",
       "0         NaN     NaN    NaN    NaN           NaN     0.0        NaN   \n",
       "1         0.0     NaN    NaN    NaN        Mexico     1.0   800000.0   \n",
       "2         NaN     NaN    NaN    NaN           NaN     0.0        NaN   \n",
       "\n",
       "   ransomamtus  ransompaid  ransompaidus ransomnote  hostkidoutcome  \\\n",
       "0          NaN         NaN           NaN        NaN             NaN   \n",
       "1          NaN         NaN           NaN        NaN             NaN   \n",
       "2          NaN         NaN           NaN        NaN             NaN   \n",
       "\n",
       "  hostkidoutcome_txt  nreleased addnotes scite1 scite2 scite3 dbsource  \\\n",
       "0                NaN        NaN      NaN    NaN    NaN    NaN     PGIS   \n",
       "1                NaN        NaN      NaN    NaN    NaN    NaN     PGIS   \n",
       "2                NaN        NaN      NaN    NaN    NaN    NaN     PGIS   \n",
       "\n",
       "   INT_LOG  INT_IDEO  INT_MISC  INT_ANY related  \n",
       "0        0         0         0        0     NaN  \n",
       "1        0         1         1        1     NaN  \n",
       "2       -9        -9         1        1     NaN  "
      ]
     },
     "execution_count": 5,
     "metadata": {},
     "output_type": "execute_result"
    }
   ],
   "source": [
    "print(df.shape)\n",
    "df.head(3)"
   ]
  },
  {
   "cell_type": "code",
   "execution_count": 6,
   "metadata": {},
   "outputs": [],
   "source": [
    "#reference for later\n",
    "orig_df_copy = df.copy()\n",
    "orig_idx = df.index\n",
    "orig_idymd = df[['eventid', 'iyear', 'imonth', 'iday']]"
   ]
  },
  {
   "cell_type": "code",
   "execution_count": 7,
   "metadata": {},
   "outputs": [
    {
     "data": {
      "text/plain": [
       "0        20\n",
       "1     15839\n",
       "2     14626\n",
       "3     16013\n",
       "4     15994\n",
       "5     17827\n",
       "6     16198\n",
       "7     17165\n",
       "8     16565\n",
       "9     14939\n",
       "10    16455\n",
       "11    15643\n",
       "12    14180\n",
       "Name: imonth, dtype: int64"
      ]
     },
     "execution_count": 7,
     "metadata": {},
     "output_type": "execute_result"
    }
   ],
   "source": [
    "df.imonth.value_counts().sort_index()"
   ]
  },
  {
   "cell_type": "markdown",
   "metadata": {},
   "source": [
    "As you can see, 20 of the events are represented for the \"imonth\" column with a zero for the month. This is because the exact month it took place are unknown. When this is the case, according to the GTD codebook, \n",
    "\n",
    "\"_For attacks that took place between 1970 and 2011, if the exact month of the event is\n",
    "unknown, this is recorded as “0”. For attacks that took place after 2011, if the exact\n",
    "month of the event is unknown, this is recorded as the midpoint of the range of possible\n",
    "dates reported in source materials and the full range is recorded in the Approximate\n",
    "Date (approxdate) field below._\" - [GTD codebook](https://www.start.umd.edu/gtd/downloads/Codebook.pdf)\n",
    "\n",
    "To build a proper datetime, these zeros will need to be taken care of because datetime needs months to be formatted between 1-12."
   ]
  },
  {
   "cell_type": "markdown",
   "metadata": {},
   "source": [
    "Lets take a look now at the \"approxdate\" column for all incididents with a zero for \"imonth\"."
   ]
  },
  {
   "cell_type": "code",
   "execution_count": 8,
   "metadata": {},
   "outputs": [
    {
     "data": {
      "text/html": [
       "<div>\n",
       "<style scoped>\n",
       "    .dataframe tbody tr th:only-of-type {\n",
       "        vertical-align: middle;\n",
       "    }\n",
       "\n",
       "    .dataframe tbody tr th {\n",
       "        vertical-align: top;\n",
       "    }\n",
       "\n",
       "    .dataframe thead th {\n",
       "        text-align: right;\n",
       "    }\n",
       "</style>\n",
       "<table border=\"1\" class=\"dataframe\">\n",
       "  <thead>\n",
       "    <tr style=\"text-align: right;\">\n",
       "      <th></th>\n",
       "      <th>approxdate</th>\n",
       "    </tr>\n",
       "  </thead>\n",
       "  <tbody>\n",
       "    <tr>\n",
       "      <th>1</th>\n",
       "      <td>NaN</td>\n",
       "    </tr>\n",
       "    <tr>\n",
       "      <th>1123</th>\n",
       "      <td>NaN</td>\n",
       "    </tr>\n",
       "    <tr>\n",
       "      <th>1690</th>\n",
       "      <td>NaN</td>\n",
       "    </tr>\n",
       "    <tr>\n",
       "      <th>2164</th>\n",
       "      <td>NaN</td>\n",
       "    </tr>\n",
       "    <tr>\n",
       "      <th>2165</th>\n",
       "      <td>NaN</td>\n",
       "    </tr>\n",
       "  </tbody>\n",
       "</table>\n",
       "</div>"
      ],
      "text/plain": [
       "     approxdate\n",
       "1           NaN\n",
       "1123        NaN\n",
       "1690        NaN\n",
       "2164        NaN\n",
       "2165        NaN"
      ]
     },
     "execution_count": 8,
     "metadata": {},
     "output_type": "execute_result"
    }
   ],
   "source": [
    "df.loc[df.imonth == 0, ['approxdate']].head()"
   ]
  },
  {
   "cell_type": "markdown",
   "metadata": {},
   "source": [
    "It appears that for these incidents where month is unknown, described by a \"0\" in the \"imonth\" column, the \"approxdate\" column is null for all 20 observations. Even though there isnt much useful information at all as far as this goes, lets take a look at some of the things we DO know about them, such as which year they occured in, where they were carried out, type of attack, victom of attack (targtype1_txt) nationality of victom or target (natlty1_txt), as well as the group that carried out the attack."
   ]
  },
  {
   "cell_type": "code",
   "execution_count": 9,
   "metadata": {},
   "outputs": [
    {
     "data": {
      "text/html": [
       "<div>\n",
       "<style scoped>\n",
       "    .dataframe tbody tr th:only-of-type {\n",
       "        vertical-align: middle;\n",
       "    }\n",
       "\n",
       "    .dataframe tbody tr th {\n",
       "        vertical-align: top;\n",
       "    }\n",
       "\n",
       "    .dataframe thead th {\n",
       "        text-align: right;\n",
       "    }\n",
       "</style>\n",
       "<table border=\"1\" class=\"dataframe\">\n",
       "  <thead>\n",
       "    <tr style=\"text-align: right;\">\n",
       "      <th></th>\n",
       "      <th>iyear</th>\n",
       "      <th>country_txt</th>\n",
       "      <th>city</th>\n",
       "      <th>success</th>\n",
       "      <th>attacktype1_txt</th>\n",
       "      <th>weaptype1_txt</th>\n",
       "      <th>targtype1_txt</th>\n",
       "      <th>natlty1_txt</th>\n",
       "      <th>gname</th>\n",
       "    </tr>\n",
       "  </thead>\n",
       "  <tbody>\n",
       "    <tr>\n",
       "      <th>1</th>\n",
       "      <td>1970</td>\n",
       "      <td>Mexico</td>\n",
       "      <td>Mexico city</td>\n",
       "      <td>1</td>\n",
       "      <td>Hostage Taking (Kidnapping)</td>\n",
       "      <td>Unknown</td>\n",
       "      <td>Government (Diplomatic)</td>\n",
       "      <td>Belgium</td>\n",
       "      <td>23rd of September Communist League</td>\n",
       "    </tr>\n",
       "    <tr>\n",
       "      <th>1123</th>\n",
       "      <td>1972</td>\n",
       "      <td>Philippines</td>\n",
       "      <td>Roxas</td>\n",
       "      <td>1</td>\n",
       "      <td>Bombing/Explosion</td>\n",
       "      <td>Explosives</td>\n",
       "      <td>Airports &amp; Aircraft</td>\n",
       "      <td>Philippines</td>\n",
       "      <td>Unknown</td>\n",
       "    </tr>\n",
       "    <tr>\n",
       "      <th>1690</th>\n",
       "      <td>1973</td>\n",
       "      <td>Colombia</td>\n",
       "      <td>unknown</td>\n",
       "      <td>1</td>\n",
       "      <td>Hostage Taking (Kidnapping)</td>\n",
       "      <td>Unknown</td>\n",
       "      <td>Business</td>\n",
       "      <td>Colombia</td>\n",
       "      <td>National Liberation Army of Colombia (ELN)</td>\n",
       "    </tr>\n",
       "    <tr>\n",
       "      <th>2164</th>\n",
       "      <td>1974</td>\n",
       "      <td>France</td>\n",
       "      <td>Paris</td>\n",
       "      <td>0</td>\n",
       "      <td>Bombing/Explosion</td>\n",
       "      <td>Explosives</td>\n",
       "      <td>Business</td>\n",
       "      <td>France</td>\n",
       "      <td>Unknown</td>\n",
       "    </tr>\n",
       "    <tr>\n",
       "      <th>2165</th>\n",
       "      <td>1974</td>\n",
       "      <td>Italy</td>\n",
       "      <td>Rome</td>\n",
       "      <td>1</td>\n",
       "      <td>Bombing/Explosion</td>\n",
       "      <td>Explosives</td>\n",
       "      <td>Airports &amp; Aircraft</td>\n",
       "      <td>United States</td>\n",
       "      <td>Unknown</td>\n",
       "    </tr>\n",
       "  </tbody>\n",
       "</table>\n",
       "</div>"
      ],
      "text/plain": [
       "      iyear  country_txt         city  success              attacktype1_txt  \\\n",
       "1      1970       Mexico  Mexico city        1  Hostage Taking (Kidnapping)   \n",
       "1123   1972  Philippines        Roxas        1            Bombing/Explosion   \n",
       "1690   1973     Colombia      unknown        1  Hostage Taking (Kidnapping)   \n",
       "2164   1974       France        Paris        0            Bombing/Explosion   \n",
       "2165   1974        Italy         Rome        1            Bombing/Explosion   \n",
       "\n",
       "     weaptype1_txt            targtype1_txt    natlty1_txt  \\\n",
       "1          Unknown  Government (Diplomatic)        Belgium   \n",
       "1123    Explosives      Airports & Aircraft    Philippines   \n",
       "1690       Unknown                 Business       Colombia   \n",
       "2164    Explosives                 Business         France   \n",
       "2165    Explosives      Airports & Aircraft  United States   \n",
       "\n",
       "                                           gname  \n",
       "1             23rd of September Communist League  \n",
       "1123                                     Unknown  \n",
       "1690  National Liberation Army of Colombia (ELN)  \n",
       "2164                                     Unknown  \n",
       "2165                                     Unknown  "
      ]
     },
     "execution_count": 9,
     "metadata": {},
     "output_type": "execute_result"
    }
   ],
   "source": [
    "attacks_unknown_month = df.loc[df.imonth == 0][['iyear', 'country_txt', 'city', 'success', 'attacktype1_txt',\n",
    "                                                'weaptype1_txt', 'targtype1_txt', 'natlty1_txt', 'gname']]\n",
    "attacks_unknown_month.head()"
   ]
  },
  {
   "cell_type": "code",
   "execution_count": 10,
   "metadata": {},
   "outputs": [
    {
     "data": {
      "text/plain": [
       "<matplotlib.axes._subplots.AxesSubplot at 0xa64b4846a0>"
      ]
     },
     "execution_count": 10,
     "metadata": {},
     "output_type": "execute_result"
    },
    {
     "data": {
      "image/png": "[encoded data removed]",
      "text/plain": [
       "<Figure size 432x288 with 1 Axes>"
      ]
     },
     "metadata": {
      "needs_background": "light"
     },
     "output_type": "display_data"
    }
   ],
   "source": [
    "attacks_unknown_month.iyear.value_counts().sort_index().plot.bar()"
   ]
  },
  {
   "cell_type": "markdown",
   "metadata": {},
   "source": [
    "Above we can see that attacks where the month was unknown spanned between 1970-1986, a relatively small portion of the total years the data covers (1970-2019). We can see when we bin by year that there were 2 or less per year in over half (12/20) of the observed instances where they occurred. 1977 had to most missing values with a total of 5 (out of 1319 total attacks that occured in 1977), accounting for about 0.004% of the total attacks in 1977. lets compute the percentage for each year with missing month values for all of the years."
   ]
  },
  {
   "cell_type": "code",
   "execution_count": 11,
   "metadata": {},
   "outputs": [
    {
     "name": "stderr",
     "output_type": "stream",
     "text": [
      "C:\\Users\\Emtma_000\\Anaconda3\\lib\\site-packages\\ipykernel_launcher.py:1: UserWarning: Pandas doesn't allow columns to be created via a new attribute name - see https://pandas.pydata.org/pandas-docs/stable/indexing.html#attribute-access\n",
      "  \"\"\"Entry point for launching an IPython kernel.\n"
     ]
    }
   ],
   "source": [
    "attacks_unknown_month.unknown = attacks_unknown_month.iyear.rename('unknown', inplace=True)\n",
    "unknown_month_each_yr = attacks_unknown_month.unknown.value_counts().sort_index()\n",
    "\n",
    "# total number of attacks for each yr for years where there were missing month values\n",
    "known_months_each_yr = df.iyear.value_counts().sort_index()[:17]"
   ]
  },
  {
   "cell_type": "code",
   "execution_count": 12,
   "metadata": {},
   "outputs": [
    {
     "data": {
      "text/plain": [
       "1977    0.0038\n",
       "1974    0.0034\n",
       "1976    0.0022\n",
       "1973    0.0021\n",
       "1972    0.0018\n",
       "1970    0.0015\n",
       "1975    0.0014\n",
       "1978    0.0013\n",
       "1979    0.0011\n",
       "1982    0.0004\n",
       "1986    0.0003\n",
       "dtype: float64"
      ]
     },
     "execution_count": 12,
     "metadata": {},
     "output_type": "execute_result"
    }
   ],
   "source": [
    "# join series for easy computation\n",
    "x = pd.concat([unknown_month_each_yr, known_months_each_yr], join='inner', axis=1)\n",
    "percent_unknown_month_by_yr = round(x.unknown / x.iyear, 4)\n",
    "percent_unknown_month_by_yr.sort_values(ascending=False)"
   ]
  },
  {
   "cell_type": "markdown",
   "metadata": {},
   "source": [
    "Very minimal number of attacks with missing month values as we can see from these percentages. the year 1977 had the most missing, but still a very small percent of all of the attacks for that year as a whole at less than 0.004%"
   ]
  },
  {
   "cell_type": "markdown",
   "metadata": {},
   "source": [
    "Lets take a look at the rest of the variables of interest for this subset of our data (attacks with where the month is unknown)."
   ]
  },
  {
   "cell_type": "code",
   "execution_count": 13,
   "metadata": {},
   "outputs": [
    {
     "data": {
      "image/png": "[encoded data removed]",
      "text/plain": [
       "<Figure size 576x432 with 1 Axes>"
      ]
     },
     "metadata": {
      "needs_background": "light"
     },
     "output_type": "display_data"
    },
    {
     "data": {
      "image/png": "[encoded data removed]",
      "text/plain": [
       "<Figure size 576x432 with 1 Axes>"
      ]
     },
     "metadata": {
      "needs_background": "light"
     },
     "output_type": "display_data"
    },
    {
     "data": {
      "image/png": "[encoded data removed]",
      "text/plain": [
       "<Figure size 576x432 with 1 Axes>"
      ]
     },
     "metadata": {
      "needs_background": "light"
     },
     "output_type": "display_data"
    },
    {
     "data": {
      "image/png": "[encoded data removed]",
      "text/plain": [
       "<Figure size 576x432 with 1 Axes>"
      ]
     },
     "metadata": {
      "needs_background": "light"
     },
     "output_type": "display_data"
    },
    {
     "data": {
      "image/png": "[encoded data removed]",
      "text/plain": [
       "<Figure size 576x432 with 1 Axes>"
      ]
     },
     "metadata": {
      "needs_background": "light"
     },
     "output_type": "display_data"
    },
    {
     "data": {
      "image/png": "[encoded data removed]",
      "text/plain": [
       "<Figure size 576x432 with 1 Axes>"
      ]
     },
     "metadata": {
      "needs_background": "light"
     },
     "output_type": "display_data"
    },
    {
     "data": {
      "image/png": "[encoded data removed]",
      "text/plain": [
       "<Figure size 576x432 with 1 Axes>"
      ]
     },
     "metadata": {
      "needs_background": "light"
     },
     "output_type": "display_data"
    },
    {
     "data": {
      "image/png": "[encoded data removed]",
      "text/plain": [
       "<Figure size 576x432 with 1 Axes>"
      ]
     },
     "metadata": {
      "needs_background": "light"
     },
     "output_type": "display_data"
    }
   ],
   "source": [
    "import seaborn as sns\n",
    "\n",
    "# custom function for boxplot\n",
    "def plot_bar(df, col):\n",
    "        \n",
    "    plt.figure(figsize = (8, 6))\n",
    "    df[col].value_counts().plot.bar()\n",
    "    plt.xlabel(f'{col}'); plt.title(f'{col} Value Counts'); plt.ylabel('Counts'); plt.show()\n",
    "    \n",
    "# Plot variables of interest\n",
    "plot_bar(attacks_unknown_month, 'country_txt'); plot_bar(attacks_unknown_month, 'city');\n",
    "plot_bar(attacks_unknown_month, 'success'); plot_bar(attacks_unknown_month, 'attacktype1_txt');\n",
    "plot_bar(attacks_unknown_month, 'weaptype1_txt'); plot_bar(attacks_unknown_month, 'targtype1_txt');\n",
    "plot_bar(attacks_unknown_month, 'natlty1_txt'); plot_bar(attacks_unknown_month, 'gname') "
   ]
  },
  {
   "cell_type": "markdown",
   "metadata": {},
   "source": [
    "Lets take a comparison look at the success rate percentage for attacks for the entire sample population of the dataset and from our small subset for attacks where the year is unknown and see if there is any significant difference."
   ]
  },
  {
   "cell_type": "code",
   "execution_count": 14,
   "metadata": {},
   "outputs": [
    {
     "name": "stdout",
     "output_type": "stream",
     "text": [
      "1    169795\n",
      "0     21669\n",
      "Name: success, dtype: int64\n"
     ]
    },
    {
     "data": {
      "text/plain": [
       "0.89"
      ]
     },
     "execution_count": 14,
     "metadata": {},
     "output_type": "execute_result"
    }
   ],
   "source": [
    "print(df.success.value_counts())\n",
    "percent_success_entire_pop = round(df.success.value_counts()[1] / df.success.count(), 2)\n",
    "percent_success_entire_pop"
   ]
  },
  {
   "cell_type": "code",
   "execution_count": 15,
   "metadata": {},
   "outputs": [
    {
     "name": "stdout",
     "output_type": "stream",
     "text": [
      "1    19\n",
      "0     1\n",
      "Name: success, dtype: int64\n"
     ]
    },
    {
     "data": {
      "text/plain": [
       "0.95"
      ]
     },
     "execution_count": 15,
     "metadata": {},
     "output_type": "execute_result"
    }
   ],
   "source": [
    "print(attacks_unknown_month.success.value_counts())\n",
    "percent_success_subset = round(attacks_unknown_month.success.value_counts()[1] / attacks_unknown_month.success.count(), 2)\n",
    "percent_success_subset"
   ]
  },
  {
   "cell_type": "markdown",
   "metadata": {},
   "source": [
    "We can see that the success percentage is high as an entire sample population to begin with at 95%, our subset of attacks where the year for attacks is unknown is 89%. \n",
    "    \n",
    "   Lets get back on track to establishing our datetime object and then using this as an index now that we've explored a bit deeper into these attacks where the month was unknown. Even though the number of attacks with month unknown is very low and rather insignificant in the grand scheme of things, it was interesting nonetheless to take a closer look at them. Just because these observations are minimal in volume, we still would rather not delete these rows with missing month values for the sake of building a datetime object, instead lets go ahead and set to a randomly drawn upon value between 1-12 using \"random\" for all month values that are '0'. this will allow for us to build out the datetime without having to delete any of our observations. Later on null values will need to be dealt with, though, before any machine learning processes. \n",
    "   I will also build a indicator variable to flag missing and or \"0\" value,  if quantity is large enough to build what would be a resonable variable with. We will need to check this for \"iday\" also before building out datetime object."
   ]
  },
  {
   "cell_type": "code",
   "execution_count": 16,
   "metadata": {},
   "outputs": [
    {
     "data": {
      "text/plain": [
       "0        20\n",
       "1     15839\n",
       "2     14626\n",
       "3     16013\n",
       "4     15994\n",
       "5     17827\n",
       "6     16198\n",
       "7     17165\n",
       "8     16565\n",
       "9     14939\n",
       "10    16455\n",
       "11    15643\n",
       "12    14180\n",
       "Name: imonth, dtype: int64"
      ]
     },
     "execution_count": 16,
     "metadata": {},
     "output_type": "execute_result"
    }
   ],
   "source": [
    "df.imonth.value_counts().sort_index()"
   ]
  },
  {
   "cell_type": "code",
   "execution_count": 17,
   "metadata": {},
   "outputs": [
    {
     "data": {
      "text/plain": [
       "1     15840\n",
       "2     14629\n",
       "3     16017\n",
       "4     15994\n",
       "5     17830\n",
       "6     16198\n",
       "7     17166\n",
       "8     16568\n",
       "9     14940\n",
       "10    16457\n",
       "11    15645\n",
       "12    14180\n",
       "Name: imonth, dtype: int64"
      ]
     },
     "execution_count": 17,
     "metadata": {},
     "output_type": "execute_result"
    }
   ],
   "source": [
    "# replace zeros for month input with a number between 1 and 12\n",
    "#df.loc[df.imonth == 0, 'imonth'] = df.loc[df.imonth == 0, 'imonth'].apply(lambda x: random.randint(1, 12))\n",
    "condition = df.imonth == 0\n",
    "df.loc[condition, 'imonth'] = df.loc[condition, 'imonth'].apply(lambda x: np.random.randint(1, 13))\n",
    "\n",
    "df.imonth.value_counts().sort_index()"
   ]
  },
  {
   "cell_type": "markdown",
   "metadata": {},
   "source": [
    "We need to do the same thing for \"iday\" column's values that are \"0\". We can see below, we've got 891 'iday' inputs that are \"0\" that need to be filled. Again I will choose to fill these zero values randomly, but this time with a number between 1-30 for months with only 30 days and 1-31 for the remaining months. I will also build an indicator variable for missing iday-values because there are a reasonable number to do so. Whether this variable will be kept around for prediction determined by its predictive power in the model is still tbd"
   ]
  },
  {
   "cell_type": "code",
   "execution_count": 18,
   "metadata": {},
   "outputs": [],
   "source": [
    "feb_days = df.loc[(df.imonth == 2) & (df.iday == 0), 'iday']\n",
    "feb_days = feb_days.apply(lambda x: np.random.randint(1, 29))"
   ]
  },
  {
   "cell_type": "code",
   "execution_count": 19,
   "metadata": {},
   "outputs": [],
   "source": [
    "# alternative = df.iday.loc[np.where(df.imonth.isin([4, 6, 9, 11]) & (df.iday == 0))]\n",
    "months_30d = df.loc[(df.imonth.isin([4, 6, 9, 11])) & (df.iday == 0), 'iday']\n",
    "months_30d_fill = months_30d.apply(lambda x: np.random.randint(1, 31))"
   ]
  },
  {
   "cell_type": "code",
   "execution_count": 20,
   "metadata": {},
   "outputs": [],
   "source": [
    "months_31d = df.loc[(df.imonth.isin([1, 3, 5, 7, 8, 10, 12])) & (df.iday == 0), 'iday']\n",
    "months_31d_fill = months_31d.apply(lambda x: np.random.randint(1, 32))"
   ]
  },
  {
   "cell_type": "code",
   "execution_count": 21,
   "metadata": {},
   "outputs": [
    {
     "data": {
      "text/plain": [
       "(891,)"
      ]
     },
     "execution_count": 21,
     "metadata": {},
     "output_type": "execute_result"
    }
   ],
   "source": [
    "updated_iday = months_30d_fill.append(months_31d_fill).append(feb_days)\n",
    "updated_iday.shape"
   ]
  },
  {
   "cell_type": "markdown",
   "metadata": {},
   "source": [
    "Below I will drop all entries from our original \"iday\" column where input is \"0\" then append our \"updated_iday\" series to the original, confirm there are no remaining \"0\" values in the newly built \"day\" column and drop original."
   ]
  },
  {
   "cell_type": "code",
   "execution_count": 22,
   "metadata": {},
   "outputs": [
    {
     "name": "stdout",
     "output_type": "stream",
     "text": [
      "Confirm total number of values equal to zero for iday_filled: 0\n"
     ]
    }
   ],
   "source": [
    "drop_0_days = list(df.iday.loc[df.iday == 0].index)\n",
    "iday = df.iday.drop(drop_0_days) \n",
    "iday_filled = iday.append(updated_iday)\n",
    "print('Confirm total number of values equal to zero for iday_filled: ' + str(int(iday_filled.loc[iday_filled == 0].count())))\n",
    "\n",
    "df['day'] = pd.Series(iday_filled, index=df.index)"
   ]
  },
  {
   "cell_type": "markdown",
   "metadata": {},
   "source": [
    "Now, we can finally build out our datetime after removing all zeros (\"0\") in \"imonth\" and \"iday\" columns"
   ]
  },
  {
   "cell_type": "code",
   "execution_count": 23,
   "metadata": {},
   "outputs": [],
   "source": [
    "df['date'] = df.iyear.astype(str) + '-' + df.imonth.astype(str) + '-' + df.day.astype(str)\n",
    "\n",
    "# drop day, no longer needed\n",
    "df.drop(columns='day', inplace=True)"
   ]
  },
  {
   "cell_type": "code",
   "execution_count": 24,
   "metadata": {},
   "outputs": [],
   "source": [
    "# build datetime obj from \"date\" \n",
    "#dates = pd.to_datetime(df.date.to_list())\n",
    "\n",
    "# Set datetime object as index. This will make for a more intuitive reference.\n",
    "#df = df.set_index(dates)"
   ]
  },
  {
   "cell_type": "markdown",
   "metadata": {},
   "source": [
    "Before we get to actually make use of our datetime index, we still have alot of cleaning to do. Lets continue to move forward with getting the data ready for analysis. The first steps i'll take in the cleaning process will be to **Consolidate and rename columns and deal with missing values and data-types.** Sometimes variables can be pretty confusing to interpret. One way to create better understanding for yourself as well as for others, is to simply rename the variables to something more interpretable. With every set of data, is some form data description for all of the variables of the dataset such as the [GTD Codebook](https://www.start.umd.edu/gtd/downloads/Codebook.pdf). Missing values such as \"NaN\", or null values will need to be managed as well as make any data-type corrections.\n",
    "\n",
    "**Next Steps:**\n",
    "\n",
    "    1. Combine the columns that are the source references scited to compile info on incidents and rename 'scitations'\n",
    "    2. Rename select columns for added clarity and interpretation\n",
    "    3. deal missing values\n",
    "    4. data-type correction"
   ]
  },
  {
   "cell_type": "markdown",
   "metadata": {},
   "source": [
    "**(1) Consolidate Columns**\n",
    "- like most processes in data science, this will be iterative in the sense that I may later find additional columns where this will be done. For starters I will begin with combining all of the scitation columns into a single column names \"scitations\". As more potential consolidation options arise, they will be dealt with at that time."
   ]
  },
  {
   "cell_type": "code",
   "execution_count": 25,
   "metadata": {},
   "outputs": [
    {
     "name": "stdout",
     "output_type": "stream",
     "text": [
      "5    \"Police Chief Quits,\" Washington Post, January...\n",
      "8    Tom Bates, \"Rads: The 1970 Bombing of the Army...\n",
      "Name: scitations, dtype: object\n",
      "\"Police Chief Quits,\" Washington Post, January 2, 1970. ... \"Cairo Police Chief Quits; Decries Local 'Militants',\" Afro-American, January 10, 1970. ... Christopher Hewitt, \"Political Violence and Terrorism in Modern America: A Chronology,\" Praeger Security International, 2005.\n"
     ]
    }
   ],
   "source": [
    "df['scitations'] = df['scite1'].astype(str) + ' ... ' + df['scite2'] + ' ... ' + df['scite3']\n",
    "print(df.scitations.dropna().head(2))\n",
    "print(df.scitations.dropna()[5])\n",
    "\n",
    "df.drop(columns=['scite1', 'scite2', 'scite3'], inplace=True)"
   ]
  },
  {
   "cell_type": "markdown",
   "metadata": {},
   "source": [
    "**(2) Rename Columns**"
   ]
  },
  {
   "cell_type": "code",
   "execution_count": 26,
   "metadata": {},
   "outputs": [],
   "source": [
    "df.rename(columns={'nhostkid':'n_hostages',\n",
    "                   'nhostkidus':'n_ushostages',\n",
    "                   'hostkidoutcome_txt':'hostage_outcome_txt',\n",
    "                   'corp1':'targ_corpgov1',\n",
    "                   'corp2':'targ_corpgov2',\n",
    "                   'corp3':'targ_corpgov3',\n",
    "                   'target1':'targ_specfc1', \n",
    "                   'target2':'targ_specfc2',\n",
    "                   'target3':'targ_specfc3',\n",
    "                   'natlty1_txt':'targ_natlty1_txt',\n",
    "                   'natlty1':'targ_natlty1',\n",
    "                   'nperps':'nattackers',\n",
    "                   'nperpcap':'nattackers_captured',\n",
    "                   'claimed':'responsibility_claimed',\n",
    "                   'claimmode':'claim_type',\n",
    "                   'claimmode_txt':'claim_type_txt',\n",
    "                   'compclaim':'responsibility_claim_multiple',\n",
    "                   'gname':'terr_grp',\n",
    "                   'gname2':'terr_grp2',\n",
    "                   'gname3':'terr_grp3',\n",
    "                   'gsubname':'terr_grp_subname',\n",
    "                   'gsubname2':'terr_grp_subname2',\n",
    "                   'gsubname3':'terr_grp_subname3',\n",
    "                   'propextent_txt':'property_damage_txt',\n",
    "                   'INT_ANY':'International_attk',\n",
    "                   'multiple': 'connctd_attk'},inplace=True)"
   ]
  },
  {
   "cell_type": "markdown",
   "metadata": {},
   "source": [
    "**(3) Dealing with missing values**\n",
    "\n",
    "Process:\n",
    "\n",
    "    \n",
    "    1. Build subset df of all cols w/ missing vals (only float and object type. Integer-type has no missing)\n",
    "    2. Correct/replace all string-type inputs in numeric columns referencing null/missing values for entire dataframe\n",
    "    3. build custom function that calculates % missing of each column and execute it on our subset containing missing vals\n",
    "    4. select columns w/ greater than or equal to 95% missing values \n",
    "    5. (optional, can come back to if necessary) create a indicator variable for EVERY column where it contains missing values\n",
    "    6. (optional) drop cols w/ >= 95% missing vals"
   ]
  },
  {
   "cell_type": "markdown",
   "metadata": {},
   "source": [
    "Any missing value labeled \"Not Available\" vs a NaN value will effect entire column where it lies. String values are object a data-type and will convert entire column to object. I do believe from reading the codebook that our dataset could contain such inputs identical to example (\"Not Available\") but I am unsure in which locations. If so, they will need to be replaced with null values(below)."
   ]
  },
  {
   "cell_type": "code",
   "execution_count": 27,
   "metadata": {},
   "outputs": [
    {
     "name": "stdout",
     "output_type": "stream",
     "text": [
      "Shape of \"int_cols\":  (191464, 24)\n",
      "Shape of \"float_cols\":(191464, 53)\n",
      "Shape for \"cat_cols\": (191464, 56)\n",
      "\n",
      "\n",
      "We have a total of 0 missing values in our integer columns, 7040725 for floats and 7147750 for objects.\n"
     ]
    }
   ],
   "source": [
    "#1\n",
    "df = df.replace({'Not Available':np.nan})\n",
    "\n",
    "#2\n",
    "int_cols = df.select_dtypes('int64'); print('Shape of \"int_cols\":  ' + str(int_cols.shape))\n",
    "float_cols = df.select_dtypes('float64'); print('Shape of \"float_cols\":' + str(float_cols.shape))\n",
    "cat_cols = df.select_dtypes('object').astype('category'); print('Shape for \"cat_cols\": ' + str(cat_cols.shape))\n",
    "\n",
    "#compute total sum of missing inputs for each data-type and print result\n",
    "int_tot = int_cols.isnull().sum().sum()\n",
    "float_tot = float_cols.isnull().sum().sum()\n",
    "cat_tot = cat_cols.isnull().sum().sum()\n",
    "string = \"We have a total of {} missing values in our integer columns, {} for floats and {} for objects.\"\n",
    "print('\\n')\n",
    "print(string.format(int_tot, float_tot, cat_tot))"
   ]
  },
  {
   "cell_type": "code",
   "execution_count": 28,
   "metadata": {},
   "outputs": [
    {
     "name": "stdout",
     "output_type": "stream",
     "text": [
      "There are 43 columns that are missing 95% or more values (drop optional).\n",
      "\n",
      "List of columns with >= 95% missing values:\n",
      "\n",
      "['terr_grp_subname3', 'weapsubtype4', 'weapsubtype4_txt', 'weaptype4_txt', 'weaptype4', 'claimmode3', 'claimmode3_txt', 'terr_grp_subname2', 'divert', 'claim3', 'guncertain3', 'terr_grp3', 'attacktype3_txt', 'attacktype3', 'ransomnote', 'ransompaidus', 'ransomamtus', 'claimmode2_txt', 'claimmode2', 'ransompaid', 'targ_corpgov3', 'targsubtype3', 'targsubtype3_txt', 'natlty3', 'natlty3_txt', 'targ_specfc3', 'targtype3', 'targtype3_txt', 'ransomamt', 'weapsubtype3', 'weapsubtype3_txt', 'weaptype3_txt', 'weaptype3', 'claim2', 'guncertain2', 'terr_grp2', 'kidhijcountry', 'nhours', 'responsibility_claim_multiple', 'terr_grp_subname', 'attacktype2_txt', 'attacktype2', 'ndays']\n"
     ]
    }
   ],
   "source": [
    "#3\n",
    "def calc_perc_miss(df):\n",
    "    valid = df.notnull().sum()\n",
    "    null = df.isnull().sum()\n",
    "    tot = valid + null\n",
    "    percent_miss = null / tot\n",
    "    percentage = percent_miss.sort_values(ascending=False)\n",
    "    return(percentage)\n",
    "\n",
    "# establish subset of original df for all columns that have missing values (\"floats\", and \"cats\")\n",
    "cols_w_miss = pd.concat([float_cols, cat_cols], axis=1)\n",
    "col_list = list(cols_w_miss.columns)\n",
    "df_col_miss = df[col_list]\n",
    "\n",
    "# execute custom func on subset\n",
    "df_miss_percent = calc_perc_miss(df_col_miss)\n",
    "\n",
    "#4\n",
    "cols_95_miss = list(df_miss_percent[df_miss_percent >= 0.95].index)\n",
    "print('There are {} columns that are missing 95% or more values (drop optional).'.format(len(cols_95_miss)) + '\\n')\n",
    "print('List of columns with >= 95% missing values:\\n\\n' + str(cols_95_miss))"
   ]
  },
  {
   "cell_type": "markdown",
   "metadata": {},
   "source": [
    "Dropping columns altogether is one option, but may not be the best choice even for columns that hold an extreme majority of missing values like the ones displayed in list above.\n",
    "\n",
    "For now, I will keep ALL columns with missing values as it wont affect the process of exploring our data during the next stage. Later on when time to perform machine learning tasks, all missing values will need to be imputed because they'll need to be in numerical form before performing machine learning tasks.\n",
    "\n",
    "An alternative approach (and there are many) to simply dropping columns with large number of NaN values would be to create a indicator/flag column, for all columns with ANY missing values (because even these missing could be potentially insightful in some way) then impute missing values with mean or median fill strategy, but not until after after doing EDA. The reason for waiting to do so after EDA is one may choose to impute differently, determined by the distribution of present values in selected column. If the distribution is skewed and possible presence of outliers, imputing with median value opposed to mean would be better, but we wont know what the distributions look until the data has been explored. \n",
    "\n",
    "At a later time we can still decide to drop these columns that initially had (before imputation) an extremely high percentage of null values if determined they won't be of any predictive use.\n",
    "\n",
    "Below, I will _(step 5 from the process defined a few cells above)_ create indicator variables to flag where the missing values are, for each column with ANY values missing."
   ]
  },
  {
   "cell_type": "code",
   "execution_count": 29,
   "metadata": {},
   "outputs": [],
   "source": [
    "#5\n",
    "#for col in df:\n",
    "    #if df[col].isnull().any() == True:\n",
    "        #df[col+'_NaNs'] = df[col].isnull() * 1\n",
    "\n",
    "#indicator_vars = [c for c in df if '_NaNs' in c]\n",
    "\n",
    "#print('Total number of indicator variables created:' + ' ' + str(len(indicator_vars)) + '\\n')\n",
    "#print('List of every indicator variable for dataframe:\\n\\n' + str(indicator_vars))"
   ]
  },
  {
   "cell_type": "code",
   "execution_count": 30,
   "metadata": {},
   "outputs": [
    {
     "data": {
      "text/plain": [
       "(191464, 134)"
      ]
     },
     "execution_count": 30,
     "metadata": {},
     "output_type": "execute_result"
    }
   ],
   "source": [
    "#6 (optional) drop every column that hase 95% or greater missing values\n",
    "#df = df.drop(cols_95_miss, 1)\n",
    "\n",
    "df.shape"
   ]
  },
  {
   "cell_type": "markdown",
   "metadata": {},
   "source": [
    "**(4) Data-Type Correction**\n",
    "\n",
    "Lets make sure the variables, are where they are supposed to be, and labeled incorrectly. There may potentially be variables currently categorized under the wrong data-type which will need to be adjusted and if needed, rename them for better clarity.\n",
    "   - **integer-type**\n",
    "   - **float-type**\n",
    "   - **object-type** (categorical and text data)"
   ]
  },
  {
   "cell_type": "code",
   "execution_count": 31,
   "metadata": {},
   "outputs": [
    {
     "name": "stdout",
     "output_type": "stream",
     "text": [
      "<class 'pandas.core.frame.DataFrame'>\n",
      "RangeIndex: 191464 entries, 0 to 191463\n",
      "Columns: 134 entries, eventid to scitations\n",
      "dtypes: datetime64[ns](1), float64(53), int64(24), object(56)\n",
      "memory usage: 195.7+ MB\n"
     ]
    }
   ],
   "source": [
    "df.info()"
   ]
  },
  {
   "cell_type": "markdown",
   "metadata": {},
   "source": [
    "Lets take a look at our \"object\" type data for each kind, categoric columns and columns containing strings of text. First, I will make sure there are no columns of object-type type that contain numerical values. If any, these will need to be converted to numeric-type."
   ]
  },
  {
   "cell_type": "code",
   "execution_count": 32,
   "metadata": {},
   "outputs": [
    {
     "data": {
      "text/html": [
       "<div>\n",
       "<style scoped>\n",
       "    .dataframe tbody tr th:only-of-type {\n",
       "        vertical-align: middle;\n",
       "    }\n",
       "\n",
       "    .dataframe tbody tr th {\n",
       "        vertical-align: top;\n",
       "    }\n",
       "\n",
       "    .dataframe thead th {\n",
       "        text-align: right;\n",
       "    }\n",
       "</style>\n",
       "<table border=\"1\" class=\"dataframe\">\n",
       "  <thead>\n",
       "    <tr style=\"text-align: right;\">\n",
       "      <th></th>\n",
       "      <th>approxdate</th>\n",
       "      <th>country_txt</th>\n",
       "      <th>region_txt</th>\n",
       "      <th>provstate</th>\n",
       "      <th>city</th>\n",
       "      <th>location</th>\n",
       "      <th>summary</th>\n",
       "      <th>alternative_txt</th>\n",
       "      <th>attacktype1_txt</th>\n",
       "      <th>attacktype2_txt</th>\n",
       "      <th>attacktype3_txt</th>\n",
       "      <th>targtype1_txt</th>\n",
       "      <th>targsubtype1_txt</th>\n",
       "      <th>targ_corpgov1</th>\n",
       "      <th>targ_specfc1</th>\n",
       "      <th>targ_natlty1_txt</th>\n",
       "      <th>targtype2_txt</th>\n",
       "      <th>targsubtype2_txt</th>\n",
       "      <th>targ_corpgov2</th>\n",
       "      <th>targ_specfc2</th>\n",
       "      <th>natlty2_txt</th>\n",
       "      <th>targtype3_txt</th>\n",
       "      <th>targsubtype3_txt</th>\n",
       "      <th>targ_corpgov3</th>\n",
       "      <th>targ_specfc3</th>\n",
       "      <th>natlty3_txt</th>\n",
       "      <th>terr_grp</th>\n",
       "      <th>terr_grp_subname</th>\n",
       "      <th>terr_grp2</th>\n",
       "      <th>terr_grp_subname2</th>\n",
       "      <th>terr_grp3</th>\n",
       "      <th>terr_grp_subname3</th>\n",
       "      <th>motive</th>\n",
       "      <th>claim_type_txt</th>\n",
       "      <th>claimmode2_txt</th>\n",
       "      <th>claimmode3_txt</th>\n",
       "      <th>weaptype1_txt</th>\n",
       "      <th>weapsubtype1_txt</th>\n",
       "      <th>weaptype2_txt</th>\n",
       "      <th>weapsubtype2_txt</th>\n",
       "      <th>weaptype3_txt</th>\n",
       "      <th>weapsubtype3_txt</th>\n",
       "      <th>weaptype4_txt</th>\n",
       "      <th>weapsubtype4_txt</th>\n",
       "      <th>weapdetail</th>\n",
       "      <th>property_damage_txt</th>\n",
       "      <th>propcomment</th>\n",
       "      <th>divert</th>\n",
       "      <th>kidhijcountry</th>\n",
       "      <th>ransomnote</th>\n",
       "      <th>hostage_outcome_txt</th>\n",
       "      <th>addnotes</th>\n",
       "      <th>dbsource</th>\n",
       "      <th>related</th>\n",
       "      <th>date</th>\n",
       "      <th>scitations</th>\n",
       "    </tr>\n",
       "  </thead>\n",
       "  <tbody>\n",
       "    <tr>\n",
       "      <th>0</th>\n",
       "      <td>NaN</td>\n",
       "      <td>Dominican Republic</td>\n",
       "      <td>Central America &amp; Caribbean</td>\n",
       "      <td>National</td>\n",
       "      <td>Santo Domingo</td>\n",
       "      <td>NaN</td>\n",
       "      <td>NaN</td>\n",
       "      <td>NaN</td>\n",
       "      <td>Assassination</td>\n",
       "      <td>NaN</td>\n",
       "      <td>NaN</td>\n",
       "      <td>Private Citizens &amp; Property</td>\n",
       "      <td>Named Civilian</td>\n",
       "      <td>NaN</td>\n",
       "      <td>Julio Guzman</td>\n",
       "      <td>Dominican Republic</td>\n",
       "      <td>NaN</td>\n",
       "      <td>NaN</td>\n",
       "      <td>NaN</td>\n",
       "      <td>NaN</td>\n",
       "      <td>NaN</td>\n",
       "      <td>NaN</td>\n",
       "      <td>NaN</td>\n",
       "      <td>NaN</td>\n",
       "      <td>NaN</td>\n",
       "      <td>NaN</td>\n",
       "      <td>MANO-D</td>\n",
       "      <td>NaN</td>\n",
       "      <td>NaN</td>\n",
       "      <td>NaN</td>\n",
       "      <td>NaN</td>\n",
       "      <td>NaN</td>\n",
       "      <td>NaN</td>\n",
       "      <td>NaN</td>\n",
       "      <td>NaN</td>\n",
       "      <td>NaN</td>\n",
       "      <td>Unknown</td>\n",
       "      <td>NaN</td>\n",
       "      <td>NaN</td>\n",
       "      <td>NaN</td>\n",
       "      <td>NaN</td>\n",
       "      <td>NaN</td>\n",
       "      <td>NaN</td>\n",
       "      <td>NaN</td>\n",
       "      <td>NaN</td>\n",
       "      <td>NaN</td>\n",
       "      <td>NaN</td>\n",
       "      <td>NaN</td>\n",
       "      <td>NaN</td>\n",
       "      <td>NaN</td>\n",
       "      <td>NaN</td>\n",
       "      <td>NaN</td>\n",
       "      <td>PGIS</td>\n",
       "      <td>NaN</td>\n",
       "      <td>1970-7-2</td>\n",
       "      <td>NaN</td>\n",
       "    </tr>\n",
       "    <tr>\n",
       "      <th>1</th>\n",
       "      <td>NaN</td>\n",
       "      <td>Mexico</td>\n",
       "      <td>North America</td>\n",
       "      <td>Federal</td>\n",
       "      <td>Mexico city</td>\n",
       "      <td>NaN</td>\n",
       "      <td>NaN</td>\n",
       "      <td>NaN</td>\n",
       "      <td>Hostage Taking (Kidnapping)</td>\n",
       "      <td>NaN</td>\n",
       "      <td>NaN</td>\n",
       "      <td>Government (Diplomatic)</td>\n",
       "      <td>Diplomatic Personnel (outside of embassy, cons...</td>\n",
       "      <td>Belgian Ambassador Daughter</td>\n",
       "      <td>Nadine Chaval, daughter</td>\n",
       "      <td>Belgium</td>\n",
       "      <td>NaN</td>\n",
       "      <td>NaN</td>\n",
       "      <td>NaN</td>\n",
       "      <td>NaN</td>\n",
       "      <td>NaN</td>\n",
       "      <td>NaN</td>\n",
       "      <td>NaN</td>\n",
       "      <td>NaN</td>\n",
       "      <td>NaN</td>\n",
       "      <td>NaN</td>\n",
       "      <td>23rd of September Communist League</td>\n",
       "      <td>NaN</td>\n",
       "      <td>NaN</td>\n",
       "      <td>NaN</td>\n",
       "      <td>NaN</td>\n",
       "      <td>NaN</td>\n",
       "      <td>NaN</td>\n",
       "      <td>NaN</td>\n",
       "      <td>NaN</td>\n",
       "      <td>NaN</td>\n",
       "      <td>Unknown</td>\n",
       "      <td>NaN</td>\n",
       "      <td>NaN</td>\n",
       "      <td>NaN</td>\n",
       "      <td>NaN</td>\n",
       "      <td>NaN</td>\n",
       "      <td>NaN</td>\n",
       "      <td>NaN</td>\n",
       "      <td>NaN</td>\n",
       "      <td>NaN</td>\n",
       "      <td>NaN</td>\n",
       "      <td>NaN</td>\n",
       "      <td>Mexico</td>\n",
       "      <td>NaN</td>\n",
       "      <td>NaN</td>\n",
       "      <td>NaN</td>\n",
       "      <td>PGIS</td>\n",
       "      <td>NaN</td>\n",
       "      <td>1970-3-26</td>\n",
       "      <td>NaN</td>\n",
       "    </tr>\n",
       "    <tr>\n",
       "      <th>2</th>\n",
       "      <td>NaN</td>\n",
       "      <td>Philippines</td>\n",
       "      <td>Southeast Asia</td>\n",
       "      <td>Tarlac</td>\n",
       "      <td>Unknown</td>\n",
       "      <td>NaN</td>\n",
       "      <td>NaN</td>\n",
       "      <td>NaN</td>\n",
       "      <td>Assassination</td>\n",
       "      <td>NaN</td>\n",
       "      <td>NaN</td>\n",
       "      <td>Journalists &amp; Media</td>\n",
       "      <td>Radio Journalist/Staff/Facility</td>\n",
       "      <td>Voice of America</td>\n",
       "      <td>Employee</td>\n",
       "      <td>United States</td>\n",
       "      <td>NaN</td>\n",
       "      <td>NaN</td>\n",
       "      <td>NaN</td>\n",
       "      <td>NaN</td>\n",
       "      <td>NaN</td>\n",
       "      <td>NaN</td>\n",
       "      <td>NaN</td>\n",
       "      <td>NaN</td>\n",
       "      <td>NaN</td>\n",
       "      <td>NaN</td>\n",
       "      <td>Unknown</td>\n",
       "      <td>NaN</td>\n",
       "      <td>NaN</td>\n",
       "      <td>NaN</td>\n",
       "      <td>NaN</td>\n",
       "      <td>NaN</td>\n",
       "      <td>NaN</td>\n",
       "      <td>NaN</td>\n",
       "      <td>NaN</td>\n",
       "      <td>NaN</td>\n",
       "      <td>Unknown</td>\n",
       "      <td>NaN</td>\n",
       "      <td>NaN</td>\n",
       "      <td>NaN</td>\n",
       "      <td>NaN</td>\n",
       "      <td>NaN</td>\n",
       "      <td>NaN</td>\n",
       "      <td>NaN</td>\n",
       "      <td>NaN</td>\n",
       "      <td>NaN</td>\n",
       "      <td>NaN</td>\n",
       "      <td>NaN</td>\n",
       "      <td>NaN</td>\n",
       "      <td>NaN</td>\n",
       "      <td>NaN</td>\n",
       "      <td>NaN</td>\n",
       "      <td>PGIS</td>\n",
       "      <td>NaN</td>\n",
       "      <td>1970-1-12</td>\n",
       "      <td>NaN</td>\n",
       "    </tr>\n",
       "    <tr>\n",
       "      <th>3</th>\n",
       "      <td>NaN</td>\n",
       "      <td>Greece</td>\n",
       "      <td>Western Europe</td>\n",
       "      <td>Attica</td>\n",
       "      <td>Athens</td>\n",
       "      <td>NaN</td>\n",
       "      <td>NaN</td>\n",
       "      <td>NaN</td>\n",
       "      <td>Bombing/Explosion</td>\n",
       "      <td>NaN</td>\n",
       "      <td>NaN</td>\n",
       "      <td>Government (Diplomatic)</td>\n",
       "      <td>Embassy/Consulate</td>\n",
       "      <td>NaN</td>\n",
       "      <td>U.S. Embassy</td>\n",
       "      <td>United States</td>\n",
       "      <td>NaN</td>\n",
       "      <td>NaN</td>\n",
       "      <td>NaN</td>\n",
       "      <td>NaN</td>\n",
       "      <td>NaN</td>\n",
       "      <td>NaN</td>\n",
       "      <td>NaN</td>\n",
       "      <td>NaN</td>\n",
       "      <td>NaN</td>\n",
       "      <td>NaN</td>\n",
       "      <td>Unknown</td>\n",
       "      <td>NaN</td>\n",
       "      <td>NaN</td>\n",
       "      <td>NaN</td>\n",
       "      <td>NaN</td>\n",
       "      <td>NaN</td>\n",
       "      <td>NaN</td>\n",
       "      <td>NaN</td>\n",
       "      <td>NaN</td>\n",
       "      <td>NaN</td>\n",
       "      <td>Explosives</td>\n",
       "      <td>Unknown Explosive Type</td>\n",
       "      <td>NaN</td>\n",
       "      <td>NaN</td>\n",
       "      <td>NaN</td>\n",
       "      <td>NaN</td>\n",
       "      <td>NaN</td>\n",
       "      <td>NaN</td>\n",
       "      <td>Explosive</td>\n",
       "      <td>NaN</td>\n",
       "      <td>NaN</td>\n",
       "      <td>NaN</td>\n",
       "      <td>NaN</td>\n",
       "      <td>NaN</td>\n",
       "      <td>NaN</td>\n",
       "      <td>NaN</td>\n",
       "      <td>PGIS</td>\n",
       "      <td>NaN</td>\n",
       "      <td>1970-1-21</td>\n",
       "      <td>NaN</td>\n",
       "    </tr>\n",
       "    <tr>\n",
       "      <th>4</th>\n",
       "      <td>NaN</td>\n",
       "      <td>Japan</td>\n",
       "      <td>East Asia</td>\n",
       "      <td>Fukouka</td>\n",
       "      <td>Fukouka</td>\n",
       "      <td>NaN</td>\n",
       "      <td>NaN</td>\n",
       "      <td>NaN</td>\n",
       "      <td>Facility/Infrastructure Attack</td>\n",
       "      <td>NaN</td>\n",
       "      <td>NaN</td>\n",
       "      <td>Government (Diplomatic)</td>\n",
       "      <td>Embassy/Consulate</td>\n",
       "      <td>NaN</td>\n",
       "      <td>U.S. Consulate</td>\n",
       "      <td>United States</td>\n",
       "      <td>NaN</td>\n",
       "      <td>NaN</td>\n",
       "      <td>NaN</td>\n",
       "      <td>NaN</td>\n",
       "      <td>NaN</td>\n",
       "      <td>NaN</td>\n",
       "      <td>NaN</td>\n",
       "      <td>NaN</td>\n",
       "      <td>NaN</td>\n",
       "      <td>NaN</td>\n",
       "      <td>Unknown</td>\n",
       "      <td>NaN</td>\n",
       "      <td>NaN</td>\n",
       "      <td>NaN</td>\n",
       "      <td>NaN</td>\n",
       "      <td>NaN</td>\n",
       "      <td>NaN</td>\n",
       "      <td>NaN</td>\n",
       "      <td>NaN</td>\n",
       "      <td>NaN</td>\n",
       "      <td>Incendiary</td>\n",
       "      <td>NaN</td>\n",
       "      <td>NaN</td>\n",
       "      <td>NaN</td>\n",
       "      <td>NaN</td>\n",
       "      <td>NaN</td>\n",
       "      <td>NaN</td>\n",
       "      <td>NaN</td>\n",
       "      <td>Incendiary</td>\n",
       "      <td>NaN</td>\n",
       "      <td>NaN</td>\n",
       "      <td>NaN</td>\n",
       "      <td>NaN</td>\n",
       "      <td>NaN</td>\n",
       "      <td>NaN</td>\n",
       "      <td>NaN</td>\n",
       "      <td>PGIS</td>\n",
       "      <td>NaN</td>\n",
       "      <td>1970-1-30</td>\n",
       "      <td>NaN</td>\n",
       "    </tr>\n",
       "  </tbody>\n",
       "</table>\n",
       "</div>"
      ],
      "text/plain": [
       "  approxdate         country_txt                   region_txt provstate  \\\n",
       "0        NaN  Dominican Republic  Central America & Caribbean  National   \n",
       "1        NaN              Mexico                North America   Federal   \n",
       "2        NaN         Philippines               Southeast Asia    Tarlac   \n",
       "3        NaN              Greece               Western Europe    Attica   \n",
       "4        NaN               Japan                    East Asia   Fukouka   \n",
       "\n",
       "            city location summary alternative_txt  \\\n",
       "0  Santo Domingo      NaN     NaN             NaN   \n",
       "1    Mexico city      NaN     NaN             NaN   \n",
       "2        Unknown      NaN     NaN             NaN   \n",
       "3         Athens      NaN     NaN             NaN   \n",
       "4        Fukouka      NaN     NaN             NaN   \n",
       "\n",
       "                  attacktype1_txt attacktype2_txt attacktype3_txt  \\\n",
       "0                   Assassination             NaN             NaN   \n",
       "1     Hostage Taking (Kidnapping)             NaN             NaN   \n",
       "2                   Assassination             NaN             NaN   \n",
       "3               Bombing/Explosion             NaN             NaN   \n",
       "4  Facility/Infrastructure Attack             NaN             NaN   \n",
       "\n",
       "                 targtype1_txt  \\\n",
       "0  Private Citizens & Property   \n",
       "1      Government (Diplomatic)   \n",
       "2          Journalists & Media   \n",
       "3      Government (Diplomatic)   \n",
       "4      Government (Diplomatic)   \n",
       "\n",
       "                                    targsubtype1_txt  \\\n",
       "0                                     Named Civilian   \n",
       "1  Diplomatic Personnel (outside of embassy, cons...   \n",
       "2                    Radio Journalist/Staff/Facility   \n",
       "3                                  Embassy/Consulate   \n",
       "4                                  Embassy/Consulate   \n",
       "\n",
       "                 targ_corpgov1             targ_specfc1    targ_natlty1_txt  \\\n",
       "0                          NaN             Julio Guzman  Dominican Republic   \n",
       "1  Belgian Ambassador Daughter  Nadine Chaval, daughter             Belgium   \n",
       "2             Voice of America                 Employee       United States   \n",
       "3                          NaN             U.S. Embassy       United States   \n",
       "4                          NaN           U.S. Consulate       United States   \n",
       "\n",
       "  targtype2_txt targsubtype2_txt targ_corpgov2 targ_specfc2 natlty2_txt  \\\n",
       "0           NaN              NaN           NaN          NaN         NaN   \n",
       "1           NaN              NaN           NaN          NaN         NaN   \n",
       "2           NaN              NaN           NaN          NaN         NaN   \n",
       "3           NaN              NaN           NaN          NaN         NaN   \n",
       "4           NaN              NaN           NaN          NaN         NaN   \n",
       "\n",
       "  targtype3_txt targsubtype3_txt targ_corpgov3 targ_specfc3 natlty3_txt  \\\n",
       "0           NaN              NaN           NaN          NaN         NaN   \n",
       "1           NaN              NaN           NaN          NaN         NaN   \n",
       "2           NaN              NaN           NaN          NaN         NaN   \n",
       "3           NaN              NaN           NaN          NaN         NaN   \n",
       "4           NaN              NaN           NaN          NaN         NaN   \n",
       "\n",
       "                             terr_grp terr_grp_subname terr_grp2  \\\n",
       "0                              MANO-D              NaN       NaN   \n",
       "1  23rd of September Communist League              NaN       NaN   \n",
       "2                             Unknown              NaN       NaN   \n",
       "3                             Unknown              NaN       NaN   \n",
       "4                             Unknown              NaN       NaN   \n",
       "\n",
       "  terr_grp_subname2 terr_grp3 terr_grp_subname3 motive claim_type_txt  \\\n",
       "0               NaN       NaN               NaN    NaN            NaN   \n",
       "1               NaN       NaN               NaN    NaN            NaN   \n",
       "2               NaN       NaN               NaN    NaN            NaN   \n",
       "3               NaN       NaN               NaN    NaN            NaN   \n",
       "4               NaN       NaN               NaN    NaN            NaN   \n",
       "\n",
       "  claimmode2_txt claimmode3_txt weaptype1_txt        weapsubtype1_txt  \\\n",
       "0            NaN            NaN       Unknown                     NaN   \n",
       "1            NaN            NaN       Unknown                     NaN   \n",
       "2            NaN            NaN       Unknown                     NaN   \n",
       "3            NaN            NaN    Explosives  Unknown Explosive Type   \n",
       "4            NaN            NaN    Incendiary                     NaN   \n",
       "\n",
       "  weaptype2_txt weapsubtype2_txt weaptype3_txt weapsubtype3_txt weaptype4_txt  \\\n",
       "0           NaN              NaN           NaN              NaN           NaN   \n",
       "1           NaN              NaN           NaN              NaN           NaN   \n",
       "2           NaN              NaN           NaN              NaN           NaN   \n",
       "3           NaN              NaN           NaN              NaN           NaN   \n",
       "4           NaN              NaN           NaN              NaN           NaN   \n",
       "\n",
       "  weapsubtype4_txt  weapdetail property_damage_txt propcomment divert  \\\n",
       "0              NaN         NaN                 NaN         NaN    NaN   \n",
       "1              NaN         NaN                 NaN         NaN    NaN   \n",
       "2              NaN         NaN                 NaN         NaN    NaN   \n",
       "3              NaN   Explosive                 NaN         NaN    NaN   \n",
       "4              NaN  Incendiary                 NaN         NaN    NaN   \n",
       "\n",
       "  kidhijcountry ransomnote hostage_outcome_txt addnotes dbsource related  \\\n",
       "0           NaN        NaN                 NaN      NaN     PGIS     NaN   \n",
       "1        Mexico        NaN                 NaN      NaN     PGIS     NaN   \n",
       "2           NaN        NaN                 NaN      NaN     PGIS     NaN   \n",
       "3           NaN        NaN                 NaN      NaN     PGIS     NaN   \n",
       "4           NaN        NaN                 NaN      NaN     PGIS     NaN   \n",
       "\n",
       "        date scitations  \n",
       "0   1970-7-2        NaN  \n",
       "1  1970-3-26        NaN  \n",
       "2  1970-1-12        NaN  \n",
       "3  1970-1-21        NaN  \n",
       "4  1970-1-30        NaN  "
      ]
     },
     "execution_count": 32,
     "metadata": {},
     "output_type": "execute_result"
    }
   ],
   "source": [
    "cat_cols.head()"
   ]
  },
  {
   "cell_type": "markdown",
   "metadata": {},
   "source": [
    "It doesnt look like there are any object-type data containing numerical values that need to be converted."
   ]
  },
  {
   "cell_type": "code",
   "execution_count": 33,
   "metadata": {},
   "outputs": [
    {
     "data": {
      "text/plain": [
       "(191464, 134)"
      ]
     },
     "execution_count": 33,
     "metadata": {},
     "output_type": "execute_result"
    }
   ],
   "source": [
    "df.shape"
   ]
  },
  {
   "cell_type": "code",
   "execution_count": 36,
   "metadata": {},
   "outputs": [
    {
     "data": {
      "text/plain": [
       "Bombing/Explosion                      91842\n",
       "Armed Assault                          45251\n",
       "Assassination                          20117\n",
       "Hostage Taking (Kidnapping)            12138\n",
       "Facility/Infrastructure Attack         11017\n",
       "Unknown                                 8267\n",
       "Unarmed Assault                         1096\n",
       "Hostage Taking (Barricade Incident)     1048\n",
       "Hijacking                                688\n",
       "Name: attacktype1_txt, dtype: int64"
      ]
     },
     "execution_count": 36,
     "metadata": {},
     "output_type": "execute_result"
    }
   ],
   "source": [
    "df.attacktype1_txt.value_counts()"
   ]
  },
  {
   "cell_type": "code",
   "execution_count": 37,
   "metadata": {},
   "outputs": [],
   "source": [
    "df.to_csv(r\"C:\\Users\\Emtma_000\\!Desktop\\Data Science\\Data Sets projects\\Capstone Project (1)\\dfclean.csv\", header=True)"
   ]
  }
 ],
 "metadata": {
  "hide_input": false,
  "kernelspec": {
   "display_name": "Python 3",
   "language": "python",
   "name": "python3"
  },
  "language_info": {
   "codemirror_mode": {
    "name": "ipython",
    "version": 3
   },
   "file_extension": ".py",
   "mimetype": "text/x-python",
   "name": "python",
   "nbconvert_exporter": "python",
   "pygments_lexer": "ipython3",
   "version": "3.6.6"
  },
  "toc": {
   "base_numbering": 1,
   "nav_menu": {
    "height": "67px",
    "width": "190px"
   },
   "number_sections": true,
   "sideBar": true,
   "skip_h1_title": false,
   "title_cell": "Table of Contents",
   "title_sidebar": "Contents",
   "toc_cell": false,
   "toc_position": {},
   "toc_section_display": true,
   "toc_window_display": false
  },
  "varInspector": {
   "cols": {
    "lenName": 16,
    "lenType": 16,
    "lenVar": 40
   },
   "kernels_config": {
    "python": {
     "delete_cmd_postfix": "",
     "delete_cmd_prefix": "del ",
     "library": "var_list.py",
     "varRefreshCmd": "print(var_dic_list())"
    },
    "r": {
     "delete_cmd_postfix": ") ",
     "delete_cmd_prefix": "rm(",
     "library": "var_list.r",
     "varRefreshCmd": "cat(var_dic_list()) "
    }
   },
   "types_to_exclude": [
    "module",
    "function",
    "builtin_function_or_method",
    "instance",
    "_Feature"
   ],
   "window_display": false
  }
 },
 "nbformat": 4,
 "nbformat_minor": 2
}
